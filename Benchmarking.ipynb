{
 "cells": [
  {
   "cell_type": "code",
   "execution_count": null,
   "metadata": {},
   "outputs": [],
   "source": [
    "import timeit"
   ]
  },
  {
   "cell_type": "code",
   "execution_count": null,
   "metadata": {},
   "outputs": [],
   "source": [
    "import matplotlib.pyplot as plt\n",
    "%matplotlib inline\n",
    "import numpy as np"
   ]
  },
  {
   "cell_type": "code",
   "execution_count": null,
   "metadata": {},
   "outputs": [],
   "source": [
    "n = 10000"
   ]
  },
  {
   "cell_type": "code",
   "execution_count": null,
   "metadata": {},
   "outputs": [],
   "source": [
    "def test_binaryop(n):\n",
    "    return(\"%d\" % i for i in range(n))\n",
    "\n",
    "def test_format(n):\n",
    "    return[\"{}\".format(i) for i in range (n)]"
   ]
  },
  {
   "cell_type": "code",
   "execution_count": null,
   "metadata": {},
   "outputs": [],
   "source": [
    "%timeit test_format(n)\n",
    "%timeit test_binaryop(n)"
   ]
  },
  {
   "cell_type": "code",
   "execution_count": null,
   "metadata": {},
   "outputs": [],
   "source": [
    "funcs = ['test_format', 'test_binaryop']\n",
    "\n",
    "order_n = [10**n for n in range (1, 6)]\n",
    "time_n = {f: [] for f in funcs}\n",
    "\n",
    "for n in order_n:\n",
    "    for f in funcs:\n",
    "        value = min(timeit.Timer(\"%s(n)\" %f,\n",
    "                                 \"from __main__ import %s, n\" %f).repeat(repeat=3, number=1000))\n",
    "        #main is the notebook\n",
    "        time_n[f].append(value)"
   ]
  },
  {
   "cell_type": "code",
   "execution_count": null,
   "metadata": {},
   "outputs": [],
   "source": [
    "time_n"
   ]
  },
  {
   "cell_type": "code",
   "execution_count": null,
   "metadata": {},
   "outputs": [],
   "source": [
    "label = [(\"test_format\", \".format method\"), (\"test_binaryop\", \"binary operator %\")]\n",
    "\n",
    "fig = plt.figure(figsize=(10,8)) #eh...\n",
    "for lb in label:\n",
    "    plt.plot(order_n, times_n[lb[0]], alpha=.5, label=lb[1], marker=\"b\", lv=2)\n",
    "plt.xscale('log')\n",
    "plt.yscale('log')\n",
    "\n",
    "plt.grid()\n",
    "plt.xlabel('sample size n')\n",
    "plt.ylabel('time per computation in seconds')"
   ]
  },
  {
   "cell_type": "markdown",
   "metadata": {},
   "source": [
    "let's compare sum() to numpy.sum()"
   ]
  },
  {
   "cell_type": "code",
   "execution_count": null,
   "metadata": {},
   "outputs": [],
   "source": [
    "from numpy import sum as np_sum #Makes sure np.sum does not clash with python's sum"
   ]
  },
  {
   "cell_type": "code",
   "execution_count": null,
   "metadata": {},
   "outputs": [],
   "source": [
    "funcs = ['sum', 'np.sum']\n",
    "order_n = [10**n for n in range (1, 6)]\n",
    "time_n = {f: [] for f in funcs}\n",
    "\n",
    "for n in order_n:\n",
    "    samples = list(range(n))\n",
    "    value_sum = min(timeit.Timer(\"sum(samples)\",\n",
    "                                 \"from __main__ import samples\").repeat(repeat=3, number=1000))\n",
    "    value_np = min(timeit.Timer(\"np_sum(samples)\",\n",
    "                                 \"from __main__ import np_sum, samples\").repeat(repeat=3, number=1000))\n",
    "    #main is the notebook\n",
    "    time_n[f].append(value)"
   ]
  },
  {
   "cell_type": "code",
   "execution_count": null,
   "metadata": {},
   "outputs": [],
   "source": []
  }
 ],
 "metadata": {
  "kernelspec": {
   "display_name": "Python 3",
   "language": "python",
   "name": "python3"
  },
  "language_info": {
   "codemirror_mode": {
    "name": "ipython",
    "version": 3
   },
   "file_extension": ".py",
   "mimetype": "text/x-python",
   "name": "python",
   "nbconvert_exporter": "python",
   "pygments_lexer": "ipython3",
   "version": "3.6.5"
  }
 },
 "nbformat": 4,
 "nbformat_minor": 2
}
